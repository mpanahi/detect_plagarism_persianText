{
  "nbformat": 4,
  "nbformat_minor": 0,
  "metadata": {
    "colab": {
      "provenance": [],
      "collapsed_sections": [],
      "mount_file_id": "1qgHfXqefQLq-5b1dzWmABJeW3r2t-gWW",
      "authorship_tag": "ABX9TyPfgEcuVpBWS699Sw9I8TlO",
      "include_colab_link": true
    },
    "kernelspec": {
      "name": "python3",
      "display_name": "Python 3"
    },
    "language_info": {
      "name": "python"
    }
  },
  "cells": [
    {
      "cell_type": "markdown",
      "metadata": {
        "id": "view-in-github",
        "colab_type": "text"
      },
      "source": [
        "<a href=\"https://colab.research.google.com/github/mpanahi/detect_plagarism_persianText/blob/master/plagiarism.ipynb\" target=\"_parent\"><img src=\"https://colab.research.google.com/assets/colab-badge.svg\" alt=\"Open In Colab\"/></a>"
      ]
    },
    {
      "cell_type": "code",
      "source": [
        "f=open('drive/MyDrive/stopwords.txt',\"r\")\n",
        "stopwords=[]\n",
        "for line in f.readlines():\n",
        "  stopwords.append(line.replace(\"\\n\",\" \"))\n",
        "f.close()\n",
        "orig= input('original:').replace(\"\\n\",\" \")\n",
        "#f2=open('suspicious text',\"r\")\n",
        "plag=input('plag:').replace(\"\\n\",\" \")\n",
        "#f2.close()"
      ],
      "metadata": {
        "colab": {
          "base_uri": "https://localhost:8080/"
        },
        "id": "Hoju-mNL44xV",
        "outputId": "c1e76c80-82a5-4778-994c-142f525f347e"
      },
      "execution_count": null,
      "outputs": [
        {
          "name": "stdout",
          "output_type": "stream",
          "text": [
            "original:ایرنا نوشت:رئیس جمهورگفت : در همین غرب و انگلیس در ۲۸ هفته ۸۱ زن دچار آسیب و تعدادی فوت شدند، آیا روی این موضوع هم حساسیت هست. آیا یک اطلاعیه صادر شد؟ سال گذشته در همین آمریکا ۱۱۰۰ نفر به دست پلیس کشته شدند چرا کسی برای آن اطلاعیه صادر نمی‌کند. چرا کسی سوال نمی‌کند این ۱۱۰۰ نفر چطور به دست پلیس کشته شدند.\n",
            "plag:فارس نوشت : ارتش در بیانیه‌ای هجمه به خادمان مردم در فرماندهی انتظامی که همواره مجاهدانه و مخلصانه در جهت امنیت و آسایش مردم تلاش می‌کنند را محکوم کرد.  ارتش جمهوری اسلامی ایران در بیانیه‌ای، هرگونه تخریب اموال عمومی و اختلال در امنیت مردم و کشور و هجمه به حافظان امنیت را محکوم کرد.\n"
          ]
        }
      ]
    },
    {
      "cell_type": "code",
      "source": [
        "!pip install hazm"
      ],
      "metadata": {
        "colab": {
          "base_uri": "https://localhost:8080/"
        },
        "id": "puHQPwvI_9JV",
        "outputId": "66d38068-9ad8-4579-f110-fcf7de890ee0"
      },
      "execution_count": null,
      "outputs": [
        {
          "output_type": "stream",
          "name": "stdout",
          "text": [
            "Looking in indexes: https://pypi.org/simple, https://us-python.pkg.dev/colab-wheels/public/simple/\n",
            "Collecting hazm\n",
            "  Downloading hazm-0.7.0-py3-none-any.whl (316 kB)\n",
            "\u001b[K     |████████████████████████████████| 316 kB 4.1 MB/s \n",
            "\u001b[?25hCollecting nltk==3.3\n",
            "  Downloading nltk-3.3.0.zip (1.4 MB)\n",
            "\u001b[K     |████████████████████████████████| 1.4 MB 48.8 MB/s \n",
            "\u001b[?25hCollecting libwapiti>=0.2.1\n",
            "  Downloading libwapiti-0.2.1.tar.gz (233 kB)\n",
            "\u001b[K     |████████████████████████████████| 233 kB 60.5 MB/s \n",
            "\u001b[?25hRequirement already satisfied: six in /usr/local/lib/python3.7/dist-packages (from nltk==3.3->hazm) (1.15.0)\n",
            "Building wheels for collected packages: nltk, libwapiti\n",
            "  Building wheel for nltk (setup.py) ... \u001b[?25l\u001b[?25hdone\n",
            "  Created wheel for nltk: filename=nltk-3.3-py3-none-any.whl size=1394485 sha256=af94415fa6712baaa1f291c33bb77a9bd042757b83792d05dde92b822c17061c\n",
            "  Stored in directory: /root/.cache/pip/wheels/9b/fd/0c/d92302c876e5de87ebd7fc0979d82edb93e2d8d768bf71fac4\n",
            "  Building wheel for libwapiti (setup.py) ... \u001b[?25l\u001b[?25hdone\n",
            "  Created wheel for libwapiti: filename=libwapiti-0.2.1-cp37-cp37m-linux_x86_64.whl size=153757 sha256=adcbfb6290ebebddbdc862fd7f0c792a2385ba184f9eb970d0b8afdce1e31b2e\n",
            "  Stored in directory: /root/.cache/pip/wheels/ab/b2/5b/0fe4b8f5c0e65341e8ea7bb3f4a6ebabfe8b1ac31322392dbf\n",
            "Successfully built nltk libwapiti\n",
            "Installing collected packages: nltk, libwapiti, hazm\n",
            "  Attempting uninstall: nltk\n",
            "    Found existing installation: nltk 3.7\n",
            "    Uninstalling nltk-3.7:\n",
            "      Successfully uninstalled nltk-3.7\n",
            "Successfully installed hazm-0.7.0 libwapiti-0.2.1 nltk-3.3\n"
          ]
        }
      ]
    },
    {
      "cell_type": "code",
      "source": [
        "from hazm import *\n",
        "\n",
        "normalizer = Normalizer()"
      ],
      "metadata": {
        "id": "_Cldh_ZH_r6L"
      },
      "execution_count": null,
      "outputs": []
    },
    {
      "cell_type": "code",
      "source": [
        "\n",
        "tokens_o=word_tokenize(normalizer.normalize(orig))\n",
        "tokens_p=word_tokenize(normalizer.normalize(plag))\n",
        "\n",
        "#lowerCase\n",
        "tokens_o = [token for token in tokens_o]\n",
        "tokens_p = [token for token in tokens_p]\n",
        "\n",
        "punctuations=['\"','.','(',')',',','?',';',':',\"''\",'``']\n",
        "filtered_tokens_o = [w for w in tokens_o if not w in stopwords and not w in punctuations]\n",
        "filtered_tokens_p = [w for w in tokens_p if not w in stopwords and not w in punctuations]"
      ],
      "metadata": {
        "id": "_ONirMZz6T49"
      },
      "execution_count": null,
      "outputs": []
    },
    {
      "cell_type": "code",
      "source": [
        "from google.colab import drive\n",
        "drive.mount('/content/drive')"
      ],
      "metadata": {
        "colab": {
          "base_uri": "https://localhost:8080/",
          "height": 353
        },
        "id": "MgLCY_Z-GSlF",
        "outputId": "27678eec-64b6-4c5d-91cb-72840c12466e"
      },
      "execution_count": null,
      "outputs": [
        {
          "output_type": "error",
          "ename": "MessageError",
          "evalue": "ignored",
          "traceback": [
            "\u001b[0;31m---------------------------------------------------------------------------\u001b[0m",
            "\u001b[0;31mMessageError\u001b[0m                              Traceback (most recent call last)",
            "\u001b[0;32m<ipython-input-3-d5df0069828e>\u001b[0m in \u001b[0;36m<module>\u001b[0;34m\u001b[0m\n\u001b[1;32m      1\u001b[0m \u001b[0;32mfrom\u001b[0m \u001b[0mgoogle\u001b[0m\u001b[0;34m.\u001b[0m\u001b[0mcolab\u001b[0m \u001b[0;32mimport\u001b[0m \u001b[0mdrive\u001b[0m\u001b[0;34m\u001b[0m\u001b[0;34m\u001b[0m\u001b[0m\n\u001b[0;32m----> 2\u001b[0;31m \u001b[0mdrive\u001b[0m\u001b[0;34m.\u001b[0m\u001b[0mmount\u001b[0m\u001b[0;34m(\u001b[0m\u001b[0;34m'/content/drive'\u001b[0m\u001b[0;34m)\u001b[0m\u001b[0;34m\u001b[0m\u001b[0;34m\u001b[0m\u001b[0m\n\u001b[0m",
            "\u001b[0;32m/usr/local/lib/python3.7/dist-packages/google/colab/drive.py\u001b[0m in \u001b[0;36mmount\u001b[0;34m(mountpoint, force_remount, timeout_ms)\u001b[0m\n\u001b[1;32m    103\u001b[0m       \u001b[0mforce_remount\u001b[0m\u001b[0;34m=\u001b[0m\u001b[0mforce_remount\u001b[0m\u001b[0;34m,\u001b[0m\u001b[0;34m\u001b[0m\u001b[0;34m\u001b[0m\u001b[0m\n\u001b[1;32m    104\u001b[0m       \u001b[0mtimeout_ms\u001b[0m\u001b[0;34m=\u001b[0m\u001b[0mtimeout_ms\u001b[0m\u001b[0;34m,\u001b[0m\u001b[0;34m\u001b[0m\u001b[0;34m\u001b[0m\u001b[0m\n\u001b[0;32m--> 105\u001b[0;31m       ephemeral=True)\n\u001b[0m\u001b[1;32m    106\u001b[0m \u001b[0;34m\u001b[0m\u001b[0m\n\u001b[1;32m    107\u001b[0m \u001b[0;34m\u001b[0m\u001b[0m\n",
            "\u001b[0;32m/usr/local/lib/python3.7/dist-packages/google/colab/drive.py\u001b[0m in \u001b[0;36m_mount\u001b[0;34m(mountpoint, force_remount, timeout_ms, ephemeral)\u001b[0m\n\u001b[1;32m    118\u001b[0m   \u001b[0;32mif\u001b[0m \u001b[0mephemeral\u001b[0m\u001b[0;34m:\u001b[0m\u001b[0;34m\u001b[0m\u001b[0;34m\u001b[0m\u001b[0m\n\u001b[1;32m    119\u001b[0m     _message.blocking_request(\n\u001b[0;32m--> 120\u001b[0;31m         'request_auth', request={'authType': 'dfs_ephemeral'}, timeout_sec=None)\n\u001b[0m\u001b[1;32m    121\u001b[0m \u001b[0;34m\u001b[0m\u001b[0m\n\u001b[1;32m    122\u001b[0m   \u001b[0mmountpoint\u001b[0m \u001b[0;34m=\u001b[0m \u001b[0m_os\u001b[0m\u001b[0;34m.\u001b[0m\u001b[0mpath\u001b[0m\u001b[0;34m.\u001b[0m\u001b[0mexpanduser\u001b[0m\u001b[0;34m(\u001b[0m\u001b[0mmountpoint\u001b[0m\u001b[0;34m)\u001b[0m\u001b[0;34m\u001b[0m\u001b[0;34m\u001b[0m\u001b[0m\n",
            "\u001b[0;32m/usr/local/lib/python3.7/dist-packages/google/colab/_message.py\u001b[0m in \u001b[0;36mblocking_request\u001b[0;34m(request_type, request, timeout_sec, parent)\u001b[0m\n\u001b[1;32m    169\u001b[0m   request_id = send_request(\n\u001b[1;32m    170\u001b[0m       request_type, request, parent=parent, expect_reply=True)\n\u001b[0;32m--> 171\u001b[0;31m   \u001b[0;32mreturn\u001b[0m \u001b[0mread_reply_from_input\u001b[0m\u001b[0;34m(\u001b[0m\u001b[0mrequest_id\u001b[0m\u001b[0;34m,\u001b[0m \u001b[0mtimeout_sec\u001b[0m\u001b[0;34m)\u001b[0m\u001b[0;34m\u001b[0m\u001b[0;34m\u001b[0m\u001b[0m\n\u001b[0m",
            "\u001b[0;32m/usr/local/lib/python3.7/dist-packages/google/colab/_message.py\u001b[0m in \u001b[0;36mread_reply_from_input\u001b[0;34m(message_id, timeout_sec)\u001b[0m\n\u001b[1;32m    100\u001b[0m         reply.get('colab_msg_id') == message_id):\n\u001b[1;32m    101\u001b[0m       \u001b[0;32mif\u001b[0m \u001b[0;34m'error'\u001b[0m \u001b[0;32min\u001b[0m \u001b[0mreply\u001b[0m\u001b[0;34m:\u001b[0m\u001b[0;34m\u001b[0m\u001b[0;34m\u001b[0m\u001b[0m\n\u001b[0;32m--> 102\u001b[0;31m         \u001b[0;32mraise\u001b[0m \u001b[0mMessageError\u001b[0m\u001b[0;34m(\u001b[0m\u001b[0mreply\u001b[0m\u001b[0;34m[\u001b[0m\u001b[0;34m'error'\u001b[0m\u001b[0;34m]\u001b[0m\u001b[0;34m)\u001b[0m\u001b[0;34m\u001b[0m\u001b[0;34m\u001b[0m\u001b[0m\n\u001b[0m\u001b[1;32m    103\u001b[0m       \u001b[0;32mreturn\u001b[0m \u001b[0mreply\u001b[0m\u001b[0;34m.\u001b[0m\u001b[0mget\u001b[0m\u001b[0;34m(\u001b[0m\u001b[0;34m'data'\u001b[0m\u001b[0;34m,\u001b[0m \u001b[0;32mNone\u001b[0m\u001b[0;34m)\u001b[0m\u001b[0;34m\u001b[0m\u001b[0;34m\u001b[0m\u001b[0m\n\u001b[1;32m    104\u001b[0m \u001b[0;34m\u001b[0m\u001b[0m\n",
            "\u001b[0;31mMessageError\u001b[0m: Error: credential propagation was unsuccessful"
          ]
        }
      ]
    },
    {
      "cell_type": "code",
      "source": [
        "#Trigram Similiarity measures\n",
        "trigrams_o=[]\n",
        "for i in range(len(tokens_o)-2):\n",
        "    t=(tokens_o[i],tokens_o[i+1],tokens_o[i+2])\n",
        "    trigrams_o.append(t)\n",
        "\n",
        "s=0\n",
        "trigrams_p=[]\n",
        "for i in range(len(tokens_p)-2):\n",
        "    t=(tokens_p[i],tokens_p[i+1],tokens_p[i+2])\n",
        "    trigrams_p.append(t)\n",
        "    if t in trigrams_o:\n",
        "        s+=1\n",
        "\n",
        "#jaccord coefficient = (S(o)^S(p))/(S(o) U S(p))\n",
        "#J=s/(len(trigrams_o)+len(trigrams_p)) \n",
        "#print(J)\n",
        "\n",
        "#containment measure\n",
        "C=s/len(trigrams_p)\n",
        "print(C)"
      ],
      "metadata": {
        "colab": {
          "base_uri": "https://localhost:8080/"
        },
        "id": "ET-WMUGK7BxN",
        "outputId": "37f0f9e3-1ba1-4ad9-f0aa-85c132ae60a2"
      },
      "execution_count": null,
      "outputs": [
        {
          "output_type": "stream",
          "name": "stdout",
          "text": [
            "0.0\n"
          ]
        }
      ]
    },
    {
      "cell_type": "code",
      "source": [
        "#longest common subsequence\n",
        "#dynamic programming algorithm for finding lcs\n",
        "def lcs(l1,l2):\n",
        "    s1=word_tokenize(l1)\n",
        "    s2=word_tokenize(l2)\n",
        "    # storing the dp values \n",
        "    dp = [[None]*(len(s1)+1) for i in range(len(s2)+1)] \n",
        "  \n",
        "    for i in range(len(s2)+1): \n",
        "        for j in range(len(s1)+1): \n",
        "            if i == 0 or j == 0: \n",
        "                dp[i][j] = 0\n",
        "            elif s2[i-1] == s1[j-1]: \n",
        "                dp[i][j] = dp[i-1][j-1]+1\n",
        "            else: \n",
        "                dp[i][j] = max(dp[i-1][j] , dp[i][j-1]) \n",
        "    return dp[len(s2)][len(s1)] "
      ],
      "metadata": {
        "id": "_D8qaGCA-iP2"
      },
      "execution_count": null,
      "outputs": []
    },
    {
      "cell_type": "code",
      "source": [
        "sent_o=sent_tokenize(orig)\n",
        "sent_p=sent_tokenize(plag)\n",
        "\n",
        "#maximum length of LCS for a sentence in suspicious text\n",
        "max_lcs=0\n",
        "sum_lcs=0\n",
        "\n",
        "for i in sent_p:\n",
        "    for j in sent_o:\n",
        "        l=lcs(i,j)\n",
        "        max_lcs=max(max_lcs,l)\n",
        "    sum_lcs+=max_lcs\n",
        "    max_lcs=0\n",
        "\n",
        "score=sum_lcs/len(tokens_p)\n",
        "print(score)"
      ],
      "metadata": {
        "colab": {
          "base_uri": "https://localhost:8080/"
        },
        "id": "53aII45G-o2s",
        "outputId": "3dab6721-b196-472d-81a4-fb6d3e7a6ccc"
      },
      "execution_count": null,
      "outputs": [
        {
          "output_type": "stream",
          "name": "stdout",
          "text": [
            "0.21052631578947367\n"
          ]
        }
      ]
    }
  ]
}